{
 "cells": [
  {
   "cell_type": "code",
   "execution_count": 3,
   "id": "7c87e465",
   "metadata": {},
   "outputs": [],
   "source": [
    "import cv2"
   ]
  },
  {
   "cell_type": "code",
   "execution_count": null,
   "id": "397e8f35",
   "metadata": {},
   "outputs": [],
   "source": [
    "#cv2.VideoCapture gives the address to the camera\n",
    "#there may exist more than two cameras so we have to pass a value as parameter\n",
    "cap = cv2.VideoCapture(1)"
   ]
  },
  {
   "cell_type": "code",
   "execution_count": null,
   "id": "4d845319",
   "metadata": {},
   "outputs": [],
   "source": [
    "#cap.read() gives two values first a bool value that shows if picture was taken successfully\n",
    "#second value is the actual picture\n",
    "status, photo = cap.read()"
   ]
  },
  {
   "cell_type": "code",
   "execution_count": null,
   "id": "f664e757",
   "metadata": {},
   "outputs": [],
   "source": [
    "#writes the data of the picture stored in a variable to the file\n",
    "cv2.imwrite(\"me.jpg\", photo)"
   ]
  },
  {
   "cell_type": "code",
   "execution_count": null,
   "id": "029bf7ac",
   "metadata": {},
   "outputs": [],
   "source": [
    "#opens a window with title \"MY Photo\" and the picture photo \n",
    "#imshow function requires cv2.waitKey() for the window to wait or else the window will crash\n",
    "#waitKey() has a number that represents a key\n",
    "cv2.imshow(\"My photo\", photo)\n",
    "cv2.waitKey(5000)\n",
    "\n",
    "#destroyAllWindows() function is used to terminate the window\n",
    "cv2.destroyAllWindows()"
   ]
  },
  {
   "cell_type": "code",
   "execution_count": null,
   "id": "0ee2547c",
   "metadata": {},
   "outputs": [],
   "source": [
    "#in numpy shape function gives the size of ndarray and ndim function gives the dimension of the ndarray\n",
    "photo.shape\n",
    "photo.ndim"
   ]
  },
  {
   "cell_type": "code",
   "execution_count": 1,
   "id": "61fb3147",
   "metadata": {},
   "outputs": [],
   "source": [
    "#photo in cv2 library is stored in BGR format"
   ]
  },
  {
   "cell_type": "code",
   "execution_count": 7,
   "id": "dea3bdd3",
   "metadata": {},
   "outputs": [],
   "source": [
    "#to read a picture file cv2.imread() is used\n",
    "p = cv2.imread(\"test.png\")"
   ]
  },
  {
   "cell_type": "code",
   "execution_count": 8,
   "id": "5e60241a",
   "metadata": {},
   "outputs": [
    {
     "data": {
      "text/plain": [
       "True"
      ]
     },
     "execution_count": 8,
     "metadata": {},
     "output_type": "execute_result"
    }
   ],
   "source": [
    "p[0][0] = [254, 254, 254]\n",
    "cv2.imwrite(\"test2.png\", p)"
   ]
  },
  {
   "cell_type": "code",
   "execution_count": null,
   "id": "36b39b14",
   "metadata": {},
   "outputs": [],
   "source": []
  }
 ],
 "metadata": {
  "kernelspec": {
   "display_name": "Python 3 (ipykernel)",
   "language": "python",
   "name": "python3"
  },
  "language_info": {
   "codemirror_mode": {
    "name": "ipython",
    "version": 3
   },
   "file_extension": ".py",
   "mimetype": "text/x-python",
   "name": "python",
   "nbconvert_exporter": "python",
   "pygments_lexer": "ipython3",
   "version": "3.9.13"
  }
 },
 "nbformat": 4,
 "nbformat_minor": 5
}
