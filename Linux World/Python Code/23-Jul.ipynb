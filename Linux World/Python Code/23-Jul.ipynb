{
 "cells": [
  {
   "cell_type": "code",
   "execution_count": 1,
   "id": "453bc4cf",
   "metadata": {},
   "outputs": [],
   "source": [
    "db = [\n",
    "    [\"Vimal\", 11111, \"jaipur\"],\n",
    "    [\"rahul\", 22222, \"delhi\"],\n",
    "    [\"krish\", 33333, \"mum\"],\n",
    "    [\"yash\", 4444, \"jaipur\"]\n",
    "]"
   ]
  },
  {
   "cell_type": "code",
   "execution_count": 2,
   "id": "b2d40fae",
   "metadata": {},
   "outputs": [
    {
     "data": {
      "text/plain": [
       "[['Vimal', 11111, 'jaipur'],\n",
       " ['rahul', 22222, 'delhi'],\n",
       " ['krish', 33333, 'mum'],\n",
       " ['yash', 4444, 'jaipur']]"
      ]
     },
     "execution_count": 2,
     "metadata": {},
     "output_type": "execute_result"
    }
   ],
   "source": [
    "db"
   ]
  },
  {
   "cell_type": "code",
   "execution_count": 3,
   "id": "4d6fa1d7",
   "metadata": {},
   "outputs": [],
   "source": [
    "x = 5"
   ]
  },
  {
   "cell_type": "code",
   "execution_count": 4,
   "id": "2405d05a",
   "metadata": {},
   "outputs": [
    {
     "data": {
      "text/plain": [
       "int"
      ]
     },
     "execution_count": 4,
     "metadata": {},
     "output_type": "execute_result"
    }
   ],
   "source": [
    "type(x)"
   ]
  },
  {
   "cell_type": "code",
   "execution_count": 5,
   "id": "3bbce2f8",
   "metadata": {},
   "outputs": [
    {
     "data": {
      "text/plain": [
       "list"
      ]
     },
     "execution_count": 5,
     "metadata": {},
     "output_type": "execute_result"
    }
   ],
   "source": [
    "type(db)"
   ]
  },
  {
   "cell_type": "code",
   "execution_count": 6,
   "id": "cf3da47d",
   "metadata": {},
   "outputs": [],
   "source": [
    "#list dont support column operations\n",
    "#we can use numpy array to do column wise operation"
   ]
  },
  {
   "cell_type": "code",
   "execution_count": 7,
   "id": "83948383",
   "metadata": {},
   "outputs": [],
   "source": [
    "#converting a list into array after importing numpy\n",
    "import numpy"
   ]
  },
  {
   "cell_type": "code",
   "execution_count": 17,
   "id": "2f06fa6f",
   "metadata": {},
   "outputs": [],
   "source": [
    "a = numpy.array(db)"
   ]
  },
  {
   "cell_type": "code",
   "execution_count": 18,
   "id": "8536961b",
   "metadata": {},
   "outputs": [
    {
     "data": {
      "text/plain": [
       "numpy.ndarray"
      ]
     },
     "execution_count": 18,
     "metadata": {},
     "output_type": "execute_result"
    }
   ],
   "source": [
    "type(a)"
   ]
  },
  {
   "cell_type": "code",
   "execution_count": 15,
   "id": "b0966efe",
   "metadata": {},
   "outputs": [],
   "source": [
    "# add . after the module name to check all the functions "
   ]
  },
  {
   "cell_type": "code",
   "execution_count": 19,
   "id": "5af49a39",
   "metadata": {},
   "outputs": [
    {
     "data": {
      "text/plain": [
       "array(['Vimal', '11111', 'jaipur'], dtype='<U21')"
      ]
     },
     "execution_count": 19,
     "metadata": {},
     "output_type": "execute_result"
    }
   ],
   "source": [
    "a[0]"
   ]
  },
  {
   "cell_type": "code",
   "execution_count": 20,
   "id": "bcde0916",
   "metadata": {},
   "outputs": [
    {
     "data": {
      "text/plain": [
       "array([['rahul', '22222', 'delhi'],\n",
       "       ['krish', '33333', 'mum'],\n",
       "       ['yash', '4444', 'jaipur']], dtype='<U21')"
      ]
     },
     "execution_count": 20,
     "metadata": {},
     "output_type": "execute_result"
    }
   ],
   "source": [
    "a[1:]"
   ]
  },
  {
   "cell_type": "code",
   "execution_count": 21,
   "id": "233e4bce",
   "metadata": {},
   "outputs": [
    {
     "data": {
      "text/plain": [
       "array([['Vimal', '11111', 'jaipur'],\n",
       "       ['rahul', '22222', 'delhi'],\n",
       "       ['krish', '33333', 'mum']], dtype='<U21')"
      ]
     },
     "execution_count": 21,
     "metadata": {},
     "output_type": "execute_result"
    }
   ],
   "source": [
    "a[:3]"
   ]
  },
  {
   "cell_type": "code",
   "execution_count": 22,
   "id": "cccf0fab",
   "metadata": {},
   "outputs": [
    {
     "data": {
      "text/plain": [
       "array(['Vimal', 'rahul', 'krish', 'yash'], dtype='<U21')"
      ]
     },
     "execution_count": 22,
     "metadata": {},
     "output_type": "execute_result"
    }
   ],
   "source": [
    "# in numpy nd array we can tell the array the column number we are interested in just by mentioning it after comma\n",
    "a[ : , 0]"
   ]
  },
  {
   "cell_type": "code",
   "execution_count": 23,
   "id": "b3796c35",
   "metadata": {},
   "outputs": [
    {
     "data": {
      "text/plain": [
       "array([['Vimal', '11111', 'jaipur'],\n",
       "       ['rahul', '22222', 'delhi'],\n",
       "       ['krish', '33333', 'mum'],\n",
       "       ['yash', '4444', 'jaipur']], dtype='<U21')"
      ]
     },
     "execution_count": 23,
     "metadata": {},
     "output_type": "execute_result"
    }
   ],
   "source": [
    "a[ : , : ]"
   ]
  },
  {
   "cell_type": "code",
   "execution_count": 24,
   "id": "d6b66d0e",
   "metadata": {},
   "outputs": [
    {
     "data": {
      "text/plain": [
       "array([['22222', 'delhi'],\n",
       "       ['33333', 'mum']], dtype='<U21')"
      ]
     },
     "execution_count": 24,
     "metadata": {},
     "output_type": "execute_result"
    }
   ],
   "source": [
    "a[1:3, 1:3]"
   ]
  },
  {
   "cell_type": "code",
   "execution_count": 41,
   "id": "3f6dd44b",
   "metadata": {},
   "outputs": [],
   "source": [
    "#strings\n",
    "s = \"this is linux world\""
   ]
  },
  {
   "cell_type": "code",
   "execution_count": 42,
   "id": "dea7a9b8",
   "metadata": {},
   "outputs": [
    {
     "data": {
      "text/plain": [
       "'this is linux world'"
      ]
     },
     "execution_count": 42,
     "metadata": {},
     "output_type": "execute_result"
    }
   ],
   "source": [
    "s"
   ]
  },
  {
   "cell_type": "code",
   "execution_count": 43,
   "id": "e5cae033",
   "metadata": {},
   "outputs": [],
   "source": [
    "#string is list of characters"
   ]
  },
  {
   "cell_type": "code",
   "execution_count": 44,
   "id": "4de96a8f",
   "metadata": {},
   "outputs": [
    {
     "data": {
      "text/plain": [
       "str"
      ]
     },
     "execution_count": 44,
     "metadata": {},
     "output_type": "execute_result"
    }
   ],
   "source": [
    "type(s)"
   ]
  },
  {
   "cell_type": "code",
   "execution_count": 45,
   "id": "29930674",
   "metadata": {},
   "outputs": [
    {
     "data": {
      "text/plain": [
       "'t'"
      ]
     },
     "execution_count": 45,
     "metadata": {},
     "output_type": "execute_result"
    }
   ],
   "source": [
    "s[0]"
   ]
  },
  {
   "cell_type": "code",
   "execution_count": 46,
   "id": "a65c118b",
   "metadata": {},
   "outputs": [
    {
     "data": {
      "text/plain": [
       "'s'"
      ]
     },
     "execution_count": 46,
     "metadata": {},
     "output_type": "execute_result"
    }
   ],
   "source": [
    "s[3]"
   ]
  },
  {
   "cell_type": "code",
   "execution_count": 47,
   "id": "220c368b",
   "metadata": {},
   "outputs": [
    {
     "data": {
      "text/plain": [
       "'s is'"
      ]
     },
     "execution_count": 47,
     "metadata": {},
     "output_type": "execute_result"
    }
   ],
   "source": [
    "s[3:7]"
   ]
  },
  {
   "cell_type": "code",
   "execution_count": 48,
   "id": "44a0469e",
   "metadata": {},
   "outputs": [
    {
     "data": {
      "text/plain": [
       "'s is linux world'"
      ]
     },
     "execution_count": 48,
     "metadata": {},
     "output_type": "execute_result"
    }
   ],
   "source": [
    "s[3:]"
   ]
  },
  {
   "cell_type": "code",
   "execution_count": 49,
   "id": "6ca1b2f4",
   "metadata": {},
   "outputs": [
    {
     "data": {
      "text/plain": [
       "'this is l'"
      ]
     },
     "execution_count": 49,
     "metadata": {},
     "output_type": "execute_result"
    }
   ],
   "source": [
    "s[:9]"
   ]
  },
  {
   "cell_type": "code",
   "execution_count": 50,
   "id": "008c2b62",
   "metadata": {},
   "outputs": [],
   "source": [
    "b = [\"harry\", \"pop\", \"linux\", \"vimal\"]"
   ]
  },
  {
   "cell_type": "code",
   "execution_count": 51,
   "id": "e3ee6334",
   "metadata": {},
   "outputs": [
    {
     "data": {
      "text/plain": [
       "['harry', 'pop', 'linux', 'vimal']"
      ]
     },
     "execution_count": 51,
     "metadata": {},
     "output_type": "execute_result"
    }
   ],
   "source": [
    "b"
   ]
  },
  {
   "cell_type": "code",
   "execution_count": 52,
   "id": "2fc13e28",
   "metadata": {},
   "outputs": [
    {
     "data": {
      "text/plain": [
       "'pop'"
      ]
     },
     "execution_count": 52,
     "metadata": {},
     "output_type": "execute_result"
    }
   ],
   "source": [
    "b[1]"
   ]
  },
  {
   "cell_type": "code",
   "execution_count": 53,
   "id": "4244af2e",
   "metadata": {},
   "outputs": [
    {
     "data": {
      "text/plain": [
       "'vimal'"
      ]
     },
     "execution_count": 53,
     "metadata": {},
     "output_type": "execute_result"
    }
   ],
   "source": [
    "b[-1]"
   ]
  },
  {
   "cell_type": "code",
   "execution_count": 54,
   "id": "582b62f7",
   "metadata": {},
   "outputs": [
    {
     "data": {
      "text/plain": [
       "'w'"
      ]
     },
     "execution_count": 54,
     "metadata": {},
     "output_type": "execute_result"
    }
   ],
   "source": [
    "s[-5]"
   ]
  },
  {
   "cell_type": "code",
   "execution_count": 55,
   "id": "76f56ffb",
   "metadata": {},
   "outputs": [
    {
     "data": {
      "text/plain": [
       "'world'"
      ]
     },
     "execution_count": 55,
     "metadata": {},
     "output_type": "execute_result"
    }
   ],
   "source": [
    "s[-5:]"
   ]
  },
  {
   "cell_type": "code",
   "execution_count": 56,
   "id": "e09f89e4",
   "metadata": {},
   "outputs": [
    {
     "data": {
      "text/plain": [
       "'this is linux '"
      ]
     },
     "execution_count": 56,
     "metadata": {},
     "output_type": "execute_result"
    }
   ],
   "source": [
    "s[0:-5]"
   ]
  },
  {
   "cell_type": "code",
   "execution_count": 57,
   "id": "70a38e03",
   "metadata": {},
   "outputs": [
    {
     "data": {
      "text/plain": [
       "bool"
      ]
     },
     "execution_count": 57,
     "metadata": {},
     "output_type": "execute_result"
    }
   ],
   "source": [
    "salary = 6\n",
    "type(salary > 5)"
   ]
  },
  {
   "cell_type": "code",
   "execution_count": 63,
   "id": "572cb31a",
   "metadata": {},
   "outputs": [],
   "source": [
    "phone = list(a[:,1])"
   ]
  },
  {
   "cell_type": "code",
   "execution_count": 64,
   "id": "9640c48d",
   "metadata": {},
   "outputs": [
    {
     "data": {
      "text/plain": [
       "['11111', '22222', '33333', '4444']"
      ]
     },
     "execution_count": 64,
     "metadata": {},
     "output_type": "execute_result"
    }
   ],
   "source": [
    "phone"
   ]
  },
  {
   "cell_type": "code",
   "execution_count": 65,
   "id": "4eb11191",
   "metadata": {},
   "outputs": [
    {
     "name": "stdout",
     "output_type": "stream",
     "text": [
      "11111\n",
      "22222\n",
      "33333\n",
      "4444\n"
     ]
    }
   ],
   "source": [
    "#iteration\n",
    "for i in phone:\n",
    "    print(i)"
   ]
  },
  {
   "cell_type": "code",
   "execution_count": null,
   "id": "3aded18d",
   "metadata": {},
   "outputs": [],
   "source": []
  },
  {
   "cell_type": "code",
   "execution_count": null,
   "id": "306c8f05",
   "metadata": {},
   "outputs": [],
   "source": []
  },
  {
   "cell_type": "code",
   "execution_count": null,
   "id": "cac7f7df",
   "metadata": {},
   "outputs": [],
   "source": []
  }
 ],
 "metadata": {
  "kernelspec": {
   "display_name": "Python 3 (ipykernel)",
   "language": "python",
   "name": "python3"
  },
  "language_info": {
   "codemirror_mode": {
    "name": "ipython",
    "version": 3
   },
   "file_extension": ".py",
   "mimetype": "text/x-python",
   "name": "python",
   "nbconvert_exporter": "python",
   "pygments_lexer": "ipython3",
   "version": "3.9.13"
  }
 },
 "nbformat": 4,
 "nbformat_minor": 5
}
