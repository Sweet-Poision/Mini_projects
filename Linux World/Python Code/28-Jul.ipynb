{
 "cells": [
  {
   "cell_type": "code",
   "execution_count": null,
   "id": "0e2111d0",
   "metadata": {},
   "outputs": [],
   "source": [
    "db = [1, \"vimal\", 11111, \"ok\"]"
   ]
  },
  {
   "cell_type": "code",
   "execution_count": null,
   "id": "0efddf79",
   "metadata": {},
   "outputs": [],
   "source": [
    "db"
   ]
  },
  {
   "cell_type": "code",
   "execution_count": null,
   "id": "437e22b6",
   "metadata": {},
   "outputs": [],
   "source": [
    "db[2] "
   ]
  },
  {
   "cell_type": "code",
   "execution_count": null,
   "id": "0a25d682",
   "metadata": {},
   "outputs": [],
   "source": [
    "db.insert(2, \"v@lw.com\")"
   ]
  },
  {
   "cell_type": "code",
   "execution_count": null,
   "id": "6759a9b6",
   "metadata": {},
   "outputs": [],
   "source": [
    "db"
   ]
  },
  {
   "cell_type": "code",
   "execution_count": null,
   "id": "8a8c7a56",
   "metadata": {},
   "outputs": [],
   "source": [
    "db = { \"id\" : 1, \"name\": \"vimal\", \"mob\" : 11111, \"remarks\" : 'ok'}"
   ]
  },
  {
   "cell_type": "code",
   "execution_count": null,
   "id": "d676ad8f",
   "metadata": {},
   "outputs": [],
   "source": [
    "type(db)"
   ]
  },
  {
   "cell_type": "code",
   "execution_count": null,
   "id": "b127eb1a",
   "metadata": {},
   "outputs": [],
   "source": [
    "db"
   ]
  },
  {
   "cell_type": "code",
   "execution_count": null,
   "id": "fbb2f1d4",
   "metadata": {},
   "outputs": [],
   "source": [
    "mydata = {\n",
    "    \"Name\" : ['vimal' , 'rahul' , 'eric' , 'tom'],\n",
    "    \"Mob\": [1111, 2222, 3333, 4444],\n",
    "    \"Remarks\" : ['ok', 'ok', 'good', 'good']\n",
    "}"
   ]
  },
  {
   "cell_type": "code",
   "execution_count": null,
   "id": "68d3b166",
   "metadata": {},
   "outputs": [],
   "source": [
    "mydata[\"Name\"]"
   ]
  },
  {
   "cell_type": "code",
   "execution_count": null,
   "id": "3ee6ba4d",
   "metadata": {},
   "outputs": [],
   "source": [
    "print([list(item) for item in zip(*mydata.values())])"
   ]
  },
  {
   "cell_type": "code",
   "execution_count": null,
   "id": "d5809c58",
   "metadata": {},
   "outputs": [],
   "source": [
    "import pandas"
   ]
  },
  {
   "cell_type": "code",
   "execution_count": null,
   "id": "c1ce6aff",
   "metadata": {},
   "outputs": [],
   "source": [
    "mynewdb = pandas.DataFrame(mydata)"
   ]
  },
  {
   "cell_type": "code",
   "execution_count": null,
   "id": "90a8e3de",
   "metadata": {},
   "outputs": [],
   "source": [
    "mynewdb"
   ]
  },
  {
   "cell_type": "code",
   "execution_count": null,
   "id": "8117117b",
   "metadata": {},
   "outputs": [],
   "source": [
    "mynewdb['Mob']"
   ]
  },
  {
   "cell_type": "code",
   "execution_count": null,
   "id": "54a827bc",
   "metadata": {},
   "outputs": [],
   "source": [
    "mynewdb.iloc[2]"
   ]
  },
  {
   "cell_type": "code",
   "execution_count": null,
   "id": "e2ec31b6",
   "metadata": {},
   "outputs": [],
   "source": [
    "mynewdb.iloc[1:4]"
   ]
  },
  {
   "cell_type": "code",
   "execution_count": null,
   "id": "cee19904",
   "metadata": {},
   "outputs": [],
   "source": [
    "mynewdb.iloc[1:3, 1]"
   ]
  },
  {
   "cell_type": "code",
   "execution_count": null,
   "id": "cc97af8e",
   "metadata": {},
   "outputs": [],
   "source": [
    "mynewdb[['Name', 'Mob']]"
   ]
  },
  {
   "cell_type": "code",
   "execution_count": null,
   "id": "5536d756",
   "metadata": {},
   "outputs": [],
   "source": [
    "#video Processing in Python"
   ]
  },
  {
   "cell_type": "code",
   "execution_count": 1,
   "id": "fd2e9183",
   "metadata": {},
   "outputs": [],
   "source": [
    "import cv2\n",
    "import random"
   ]
  },
  {
   "cell_type": "code",
   "execution_count": 2,
   "id": "fbcd8bdb",
   "metadata": {},
   "outputs": [
    {
     "name": "stderr",
     "output_type": "stream",
     "text": [
      "2023-07-28 15:27:32.932 python[15003:474820] WARNING: AVCaptureDeviceTypeExternal is deprecated for Continuity Cameras. Please use AVCaptureDeviceTypeContinuityCamera and add NSCameraUseContinuityCameraDeviceType to your Info.plist.\n"
     ]
    }
   ],
   "source": [
    "cap = cv2.VideoCapture(1)"
   ]
  },
  {
   "cell_type": "code",
   "execution_count": 3,
   "id": "8f21a65c",
   "metadata": {},
   "outputs": [],
   "source": [
    "while True:\n",
    "    stats, photo = cap.read()\n",
    "    a = random.randint(0,800)\n",
    "    b = a + 400\n",
    "    c = random.randint(0,800)\n",
    "    d = c + 400\n",
    "    cv2.imshow(\"HI\", photo[100:800, 100:500])\n",
    "    if cv2.waitKey(1) == 13:\n",
    "        break\n",
    "#     cv2.destroyAllWindows()"
   ]
  },
  {
   "cell_type": "code",
   "execution_count": null,
   "id": "6d915ff1",
   "metadata": {},
   "outputs": [],
   "source": []
  },
  {
   "cell_type": "code",
   "execution_count": null,
   "id": "1307e8e6",
   "metadata": {},
   "outputs": [],
   "source": []
  }
 ],
 "metadata": {
  "kernelspec": {
   "display_name": "Python 3 (ipykernel)",
   "language": "python",
   "name": "python3"
  },
  "language_info": {
   "codemirror_mode": {
    "name": "ipython",
    "version": 3
   },
   "file_extension": ".py",
   "mimetype": "text/x-python",
   "name": "python",
   "nbconvert_exporter": "python",
   "pygments_lexer": "ipython3",
   "version": "3.9.13"
  }
 },
 "nbformat": 4,
 "nbformat_minor": 5
}
