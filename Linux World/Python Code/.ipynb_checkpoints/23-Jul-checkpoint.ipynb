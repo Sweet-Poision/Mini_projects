{
 "cells": [
  {
   "cell_type": "code",
   "execution_count": 1,
   "id": "b8ebdace",
   "metadata": {},
   "outputs": [],
   "source": [
    "db = [\n",
    "    [\"Vimal\", 11111, \"jaipur\"],\n",
    "    [\"rahul\", 22222, \"delhi\"],\n",
    "    [\"krish\", 33333, \"mum\"],\n",
    "    [\"yash\", 4444, \"jaipur\"]\n",
    "]"
   ]
  },
  {
   "cell_type": "code",
   "execution_count": 2,
   "id": "b44a9b78",
   "metadata": {},
   "outputs": [
    {
     "data": {
      "text/plain": [
       "[['Vimal', 11111, 'jaipur'],\n",
       " ['rahul', 22222, 'delhi'],\n",
       " ['krish', 33333, 'mum'],\n",
       " ['yash', 4444, 'jaipur']]"
      ]
     },
     "execution_count": 2,
     "metadata": {},
     "output_type": "execute_result"
    }
   ],
   "source": [
    "db"
   ]
  },
  {
   "cell_type": "code",
   "execution_count": 3,
   "id": "b0b3fab3",
   "metadata": {},
   "outputs": [],
   "source": [
    "x = 5"
   ]
  },
  {
   "cell_type": "code",
   "execution_count": 4,
   "id": "a960f2f5",
   "metadata": {},
   "outputs": [
    {
     "data": {
      "text/plain": [
       "int"
      ]
     },
     "execution_count": 4,
     "metadata": {},
     "output_type": "execute_result"
    }
   ],
   "source": [
    "type(x)"
   ]
  },
  {
   "cell_type": "code",
   "execution_count": 5,
   "id": "44248c79",
   "metadata": {},
   "outputs": [
    {
     "data": {
      "text/plain": [
       "list"
      ]
     },
     "execution_count": 5,
     "metadata": {},
     "output_type": "execute_result"
    }
   ],
   "source": [
    "type(db)"
   ]
  },
  {
   "cell_type": "code",
   "execution_count": 6,
   "id": "9f637bf6",
   "metadata": {},
   "outputs": [],
   "source": [
    "#list dont support column operations\n",
    "#we can use numpy array to do column wise operation"
   ]
  },
  {
   "cell_type": "code",
   "execution_count": null,
   "id": "c962256f",
   "metadata": {},
   "outputs": [],
   "source": []
  }
 ],
 "metadata": {
  "kernelspec": {
   "display_name": "Python 3 (ipykernel)",
   "language": "python",
   "name": "python3"
  },
  "language_info": {
   "codemirror_mode": {
    "name": "ipython",
    "version": 3
   },
   "file_extension": ".py",
   "mimetype": "text/x-python",
   "name": "python",
   "nbconvert_exporter": "python",
   "pygments_lexer": "ipython3",
   "version": "3.9.13"
  }
 },
 "nbformat": 4,
 "nbformat_minor": 5
}
