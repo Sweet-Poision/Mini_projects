{
 "cells": [
  {
   "cell_type": "code",
   "execution_count": 9,
   "id": "cc5da3ae",
   "metadata": {},
   "outputs": [],
   "source": [
    "#module == program file\n",
    "import pyttsx3"
   ]
  },
  {
   "cell_type": "code",
   "execution_count": 7,
   "id": "9cb05a09",
   "metadata": {},
   "outputs": [],
   "source": [
    "#load speaker driver for python, they connect to the speaker\n",
    "myspeaker = pyttsx3.init() "
   ]
  },
  {
   "cell_type": "code",
   "execution_count": 8,
   "id": "9be439cb",
   "metadata": {},
   "outputs": [],
   "source": [
    "#text to speach\n",
    "myspeaker.say(\"Hello\")"
   ]
  },
  {
   "cell_type": "code",
   "execution_count": null,
   "id": "6335179a",
   "metadata": {},
   "outputs": [],
   "source": [
    "#go to speaker and speak\n",
    "myspeaker.runAndWait()"
   ]
  }
 ],
 "metadata": {
  "kernelspec": {
   "display_name": "Python 3 (ipykernel)",
   "language": "python",
   "name": "python3"
  },
  "language_info": {
   "codemirror_mode": {
    "name": "ipython",
    "version": 3
   },
   "file_extension": ".py",
   "mimetype": "text/x-python",
   "name": "python",
   "nbconvert_exporter": "python",
   "pygments_lexer": "ipython3",
   "version": "3.9.13"
  }
 },
 "nbformat": 4,
 "nbformat_minor": 5
}
