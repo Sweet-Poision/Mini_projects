{
 "cells": [
  {
   "cell_type": "code",
   "execution_count": 1,
   "id": "60050934",
   "metadata": {},
   "outputs": [],
   "source": [
    "import pywhatkit as p"
   ]
  },
  {
   "cell_type": "code",
   "execution_count": 2,
   "id": "3b5633ed",
   "metadata": {},
   "outputs": [
    {
     "name": "stdout",
     "output_type": "stream",
     "text": [
      "To: ur.dev6@gmail.com\n"
     ]
    }
   ],
   "source": [
    "sender_mail = input(\"To: \")"
   ]
  },
  {
   "cell_type": "code",
   "execution_count": 3,
   "id": "39a5d614",
   "metadata": {},
   "outputs": [
    {
     "name": "stdout",
     "output_type": "stream",
     "text": [
      "Subject: Hello\n"
     ]
    }
   ],
   "source": [
    "subject = input(\"Subject: \")"
   ]
  },
  {
   "cell_type": "code",
   "execution_count": 4,
   "id": "736d6e4a",
   "metadata": {},
   "outputs": [
    {
     "name": "stdout",
     "output_type": "stream",
     "text": [
      "Enter Message:\n",
      "Hi, You are best.\n"
     ]
    }
   ],
   "source": [
    "message = input(\"Enter Message:\\n\")"
   ]
  },
  {
   "cell_type": "code",
   "execution_count": 5,
   "id": "cae36811",
   "metadata": {},
   "outputs": [
    {
     "name": "stdout",
     "output_type": "stream",
     "text": [
      "Email Sent Successfully!\n"
     ]
    }
   ],
   "source": [
    "p.send_mail('utsavraj14052001@gmail.com', 'jaomodafrlymhcwl', subject, message, sender_mail)"
   ]
  },
  {
   "cell_type": "code",
   "execution_count": null,
   "id": "4fb1afd4",
   "metadata": {},
   "outputs": [],
   "source": []
  }
 ],
 "metadata": {
  "kernelspec": {
   "display_name": "Python 3 (ipykernel)",
   "language": "python",
   "name": "python3"
  },
  "language_info": {
   "codemirror_mode": {
    "name": "ipython",
    "version": 3
   },
   "file_extension": ".py",
   "mimetype": "text/x-python",
   "name": "python",
   "nbconvert_exporter": "python",
   "pygments_lexer": "ipython3",
   "version": "3.9.13"
  }
 },
 "nbformat": 4,
 "nbformat_minor": 5
}
