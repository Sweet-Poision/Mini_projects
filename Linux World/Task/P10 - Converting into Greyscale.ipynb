{
 "cells": [
  {
   "cell_type": "code",
   "execution_count": 1,
   "id": "e5f472d0",
   "metadata": {},
   "outputs": [],
   "source": [
    "import cv2"
   ]
  },
  {
   "cell_type": "code",
   "execution_count": 2,
   "id": "210ffcf3",
   "metadata": {},
   "outputs": [],
   "source": [
    "p = cv2.imread(\"test.jpg\")"
   ]
  },
  {
   "cell_type": "code",
   "execution_count": 16,
   "id": "9baec40b",
   "metadata": {},
   "outputs": [],
   "source": [
    "for rows in p:\n",
    "    for cols in rows:\n",
    "        cols[0] = cols[1] = cols[2] = (int(cols[0]) + int(cols[1]) + int(cols[2]))/3"
   ]
  },
  {
   "cell_type": "code",
   "execution_count": 17,
   "id": "84f42b29",
   "metadata": {},
   "outputs": [
    {
     "data": {
      "text/plain": [
       "True"
      ]
     },
     "execution_count": 17,
     "metadata": {},
     "output_type": "execute_result"
    }
   ],
   "source": [
    "cv2.imwrite(\"grey.jpg\", p)"
   ]
  }
 ],
 "metadata": {
  "kernelspec": {
   "display_name": "Python 3 (ipykernel)",
   "language": "python",
   "name": "python3"
  },
  "language_info": {
   "codemirror_mode": {
    "name": "ipython",
    "version": 3
   },
   "file_extension": ".py",
   "mimetype": "text/x-python",
   "name": "python",
   "nbconvert_exporter": "python",
   "pygments_lexer": "ipython3",
   "version": "3.9.13"
  }
 },
 "nbformat": 4,
 "nbformat_minor": 5
}
