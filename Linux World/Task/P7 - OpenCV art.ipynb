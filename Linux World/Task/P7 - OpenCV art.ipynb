{
 "cells": [
  {
   "cell_type": "code",
   "execution_count": null,
   "id": "ee94c120",
   "metadata": {},
   "outputs": [],
   "source": [
    "import cv2\n",
    "import numpy as np\n",
    "import random"
   ]
  },
  {
   "cell_type": "code",
   "execution_count": null,
   "id": "c0877e27",
   "metadata": {},
   "outputs": [],
   "source": [
    "canvas = np.zeros((1000,1000,3), dtype=np.uint8)"
   ]
  },
  {
   "cell_type": "code",
   "execution_count": null,
   "id": "23be4a35",
   "metadata": {},
   "outputs": [],
   "source": [
    "angle = random.randint(0,360)\n",
    "scale = random.uniform(0.5, 2.0)\n",
    "center = (canvas.shape[1]//2, canvas.shape[0]//2)\n",
    "rotation_matrix = cv2.getRotationMatrix2D(center, angle, scale)\n",
    "canvas = cv2.warpAffine(canvas, rotation_matrix, (canvas.shape[1], canvas.shape[0]))"
   ]
  },
  {
   "cell_type": "code",
   "execution_count": null,
   "id": "493c2ab2",
   "metadata": {},
   "outputs": [],
   "source": [
    "num_shapes = random.randint(10, 35)\n",
    "for _ in range(num_shapes):\n",
    "    shape_type = random.choice([\"circle\", \"rectangle\", \"triangle\"])\n",
    "    color = (random.randint(0, 255), random.randint(0, 255), random.randint(0, 255))\n",
    "    x, y = random.randint(0, 1000), random.randint(0, 1000)\n",
    "    size = random.randint(10, 50)\n",
    "\n",
    "    if shape_type == \"circle\":\n",
    "        cv2.circle(canvas, (x, y), size, color, -1)\n",
    "    elif shape_type == \"rectangle\":\n",
    "        cv2.rectangle(canvas, (x - size, y - size), (x + size, y + size), color, -1)\n",
    "    elif shape_type == \"triangle\":\n",
    "        pts = np.array([\n",
    "            [x, y - size],\n",
    "            [x - size, y + size],\n",
    "            [x + size, y + size]\n",
    "            ], np.int32)\n",
    "        pts = pts.reshape((-1, 1, 2))\n",
    "        cv2.fillPoly(canvas, [pts], color)"
   ]
  },
  {
   "cell_type": "code",
   "execution_count": null,
   "id": "8ccf909c",
   "metadata": {},
   "outputs": [],
   "source": [
    "canvas = cv2.GaussianBlur(canvas, (15, 15), 0)\n",
    "canvas = cv2.cvtColor(canvas, cv2.COLOR_BGR2GRAY)\n",
    "canvas = cv2.cvtColor(canvas, cv2.COLOR_GRAY2BGR)\n",
    "canvas = cv2.applyColorMap(canvas, cv2.COLORMAP_JET)"
   ]
  },
  {
   "cell_type": "code",
   "execution_count": null,
   "id": "decda794",
   "metadata": {},
   "outputs": [],
   "source": [
    "cv2.imshow(\"Artistic Random Image\", canvas)\n",
    "cv2.waitKey(0)\n",
    "cv2.destroyAllWindows()"
   ]
  },
  {
   "cell_type": "code",
   "execution_count": null,
   "id": "16508a68",
   "metadata": {},
   "outputs": [],
   "source": [
    "filename = \"artistic_random_image.png\"\n",
    "cv2.imwrite(filename, canvas)\n",
    "print(f\"Artistic random image '{filename}' created successfully.\")"
   ]
  }
 ],
 "metadata": {
  "kernelspec": {
   "display_name": "Python 3 (ipykernel)",
   "language": "python",
   "name": "python3"
  },
  "language_info": {
   "codemirror_mode": {
    "name": "ipython",
    "version": 3
   },
   "file_extension": ".py",
   "mimetype": "text/x-python",
   "name": "python",
   "nbconvert_exporter": "python",
   "pygments_lexer": "ipython3",
   "version": "3.9.13"
  }
 },
 "nbformat": 4,
 "nbformat_minor": 5
}
