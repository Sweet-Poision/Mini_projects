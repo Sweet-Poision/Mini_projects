{
 "cells": [
  {
   "cell_type": "code",
   "execution_count": null,
   "id": "54d06785",
   "metadata": {},
   "outputs": [],
   "source": [
    "import pywhatkit"
   ]
  },
  {
   "cell_type": "code",
   "execution_count": null,
   "id": "77f119bd",
   "metadata": {},
   "outputs": [],
   "source": [
    "number = input(\"Give number to send message (include country code): \")"
   ]
  },
  {
   "cell_type": "code",
   "execution_count": null,
   "id": "0ea56148",
   "metadata": {},
   "outputs": [],
   "source": [
    "message = input(\"Enter Message: \\n\")"
   ]
  },
  {
   "cell_type": "code",
   "execution_count": null,
   "id": "f6f0db7e",
   "metadata": {},
   "outputs": [],
   "source": [
    "pywhatkit.sendwhatmsg_instantly(number, message)"
   ]
  }
 ],
 "metadata": {
  "kernelspec": {
   "display_name": "Python 3 (ipykernel)",
   "language": "python",
   "name": "python3"
  },
  "language_info": {
   "codemirror_mode": {
    "name": "ipython",
    "version": 3
   },
   "file_extension": ".py",
   "mimetype": "text/x-python",
   "name": "python",
   "nbconvert_exporter": "python",
   "pygments_lexer": "ipython3",
   "version": "3.9.13"
  }
 },
 "nbformat": 4,
 "nbformat_minor": 5
}
