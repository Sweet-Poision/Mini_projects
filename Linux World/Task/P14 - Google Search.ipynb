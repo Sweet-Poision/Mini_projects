{
 "cells": [
  {
   "cell_type": "code",
   "execution_count": 3,
   "id": "0faa2b2d",
   "metadata": {},
   "outputs": [
    {
     "name": "stdout",
     "output_type": "stream",
     "text": [
      "Google Search: Hello\n",
      "Error occurred while extracting URL: ('Connection aborted.', RemoteDisconnected('Remote end closed connection without response'))\n",
      "\n",
      "Top 10 Search Results:\n",
      "1. Adele - Hello (Official Music Video) - YouTube - https://www.youtube.com/watch?v=YQHsXMglC9A\n",
      "2. Adele - Hello (Live at the NRJ Awards) - YouTube - https://www.youtube.com/watch?v=DfG6VKnjrVw\n",
      "3. Hello (Adele song) - Wikipedia - https://en.wikipedia.org/wiki/Hello_(Adele_song)\n",
      "4. Adele - Hello (Lyrics) - YouTube - https://www.youtube.com/watch?v=be12BC5pQLE\n",
      "5. Hello - Wikipedia - https://en.wikipedia.org/wiki/Hello\n",
      "6. Hello - song and lyrics by Adele | Spotify - https://open.spotify.com/track/62PaSfnXSMyLshYJrlTuL3\n",
      "7. HELLO! India Magazine - Daily Celebrities, Fashion, Beauty & Lifestyle News - https://in.hellomagazine.com/\n",
      "8. hello network - https://www.hello.com/\n",
      "9. Hello! - Super Simple Songs - https://supersimple.com/song/hello/\n"
     ]
    }
   ],
   "source": [
    "# Final Python script: google_search.py\n",
    "# Web scraper to perform a Google search and extract top search results using BeautifulSoup4.\n",
    "\n",
    "try:\n",
    "    # Importing the 'search' function from the 'googlesearch' module\n",
    "    from googlesearch import search\n",
    "except ImportError:\n",
    "    print(\"No module named 'google' found. Please install the 'googlesearch-python' module.\")\n",
    "    exit(1)\n",
    "\n",
    "from bs4 import BeautifulSoup\n",
    "import requests\n",
    "\n",
    "# Function to perform a Google search using the 'googlesearch' module\n",
    "def google_search(query):\n",
    "    try:\n",
    "        search_results = list(search(query, tld=\"co.in\", num=10, stop=10, pause=2))\n",
    "        return search_results\n",
    "    except Exception as e:\n",
    "        print(\"Error occurred during the search:\", e)\n",
    "        return []\n",
    "\n",
    "# Function to extract URLs and their titles from search results using BeautifulSoup4\n",
    "def extract_urls(search_results):\n",
    "    urls = []\n",
    "    for url in search_results:\n",
    "        try:\n",
    "            response = requests.get(url)\n",
    "            soup = BeautifulSoup(response.text, 'html.parser')\n",
    "            title = soup.title.string.strip()\n",
    "            urls.append((title, url))\n",
    "        except Exception as e:\n",
    "            print(\"Error occurred while extracting URL:\", e)\n",
    "    return urls\n",
    "\n",
    "if __name__ == \"__main__\":\n",
    "    # User input for the search query\n",
    "    query = input(\"Google Search: \")\n",
    "\n",
    "    # Perform the Google search\n",
    "    search_results = google_search(query)\n",
    "    if not search_results:\n",
    "        print(\"No search results found.\")\n",
    "        exit(1)\n",
    "\n",
    "    # Extract URLs and titles from the search results\n",
    "    urls = extract_urls(search_results)\n",
    "    if not urls:\n",
    "        print(\"Error occurred while extracting URLs. Please try again later.\")\n",
    "        exit(1)\n",
    "\n",
    "    # Display the top 10 search results\n",
    "    print(\"\\nTop 10 Search Results:\")\n",
    "    for idx, (title, url) in enumerate(urls, start=1):\n",
    "        print(f\"{idx}. {title} - {url}\")\n"
   ]
  },
  {
   "cell_type": "code",
   "execution_count": null,
   "id": "17397e10",
   "metadata": {},
   "outputs": [],
   "source": []
  }
 ],
 "metadata": {
  "kernelspec": {
   "display_name": "Python 3 (ipykernel)",
   "language": "python",
   "name": "python3"
  },
  "language_info": {
   "codemirror_mode": {
    "name": "ipython",
    "version": 3
   },
   "file_extension": ".py",
   "mimetype": "text/x-python",
   "name": "python",
   "nbconvert_exporter": "python",
   "pygments_lexer": "ipython3",
   "version": "3.9.13"
  }
 },
 "nbformat": 4,
 "nbformat_minor": 5
}
