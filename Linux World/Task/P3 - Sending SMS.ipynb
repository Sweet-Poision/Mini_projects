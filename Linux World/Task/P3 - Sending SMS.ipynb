{
 "cells": [
  {
   "cell_type": "code",
   "execution_count": 1,
   "id": "57219f63",
   "metadata": {},
   "outputs": [],
   "source": [
    "# sending sms texts"
   ]
  },
  {
   "cell_type": "code",
   "execution_count": 6,
   "id": "ef6a810e",
   "metadata": {},
   "outputs": [],
   "source": [
    "import vonage"
   ]
  },
  {
   "cell_type": "code",
   "execution_count": null,
   "id": "84bedd5d",
   "metadata": {},
   "outputs": [],
   "source": [
    "number = input(\"Enter number you want to send message along with country id:\" )"
   ]
  },
  {
   "cell_type": "code",
   "execution_count": null,
   "id": "93fae92e",
   "metadata": {},
   "outputs": [],
   "source": [
    "message = input(\"Enter the message:\\n\")"
   ]
  },
  {
   "cell_type": "code",
   "execution_count": 3,
   "id": "c78e7dd1",
   "metadata": {},
   "outputs": [],
   "source": [
    "client = vonage.Client(key=\"e74c26ff\", secret=\"nCaS2xzRTZfFFnRU\")\n",
    "sms = vonage.Sms(client)"
   ]
  },
  {
   "cell_type": "code",
   "execution_count": 5,
   "id": "974c8ef5",
   "metadata": {},
   "outputs": [
    {
     "name": "stdout",
     "output_type": "stream",
     "text": [
      "Message sent successfully.\n"
     ]
    }
   ],
   "source": [
    "responseData = sms.send_message(\n",
    "    {\n",
    "        \"from\": \"Vonage API\",\n",
    "        \"to\": number,\n",
    "        \"text\": message,\n",
    "    }\n",
    ")\n",
    "\n",
    "if responseData[\"messages\"][0][\"status\"] == \"0\":\n",
    "    print(\"Message sent successfully.\")\n",
    "else:\n",
    "    print(f\"Message failed with error: {responseData['messages'][0]['error-text']}\")"
   ]
  },
  {
   "cell_type": "code",
   "execution_count": null,
   "id": "0b47b05a",
   "metadata": {},
   "outputs": [],
   "source": []
  }
 ],
 "metadata": {
  "kernelspec": {
   "display_name": "Python 3 (ipykernel)",
   "language": "python",
   "name": "python3"
  },
  "language_info": {
   "codemirror_mode": {
    "name": "ipython",
    "version": 3
   },
   "file_extension": ".py",
   "mimetype": "text/x-python",
   "name": "python",
   "nbconvert_exporter": "python",
   "pygments_lexer": "ipython3",
   "version": "3.9.13"
  }
 },
 "nbformat": 4,
 "nbformat_minor": 5
}
