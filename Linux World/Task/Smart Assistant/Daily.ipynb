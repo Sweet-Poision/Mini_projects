{
 "cells": [
  {
   "cell_type": "code",
   "execution_count": 2,
   "metadata": {},
   "outputs": [],
   "source": [
    "import os"
   ]
  },
  {
   "cell_type": "code",
   "execution_count": 3,
   "metadata": {},
   "outputs": [],
   "source": [
    "def run_choice(choice):\n",
    "    if isCal(choice):\n",
    "        print(\"cal\")\n",
    "    elif isChrome(choice):\n",
    "        print(\"Chrome\")\n",
    "    elif isMessage(choice):\n",
    "        print(\"sending message\")\n",
    "    elif isWhatsApp(choice):\n",
    "        print(\"sending WhatsApp message\")\n",
    "    elif isMail(choice):\n",
    "        print(\"Sending Mail\")\n",
    "    else:\n",
    "        print(\"Sorry I can't do that\")"
   ]
  },
  {
   "cell_type": "code",
   "execution_count": null,
   "metadata": {},
   "outputs": [],
   "source": [
    "choice = input(\"How may I help?\")\n",
    "run_choice(choice)"
   ]
  },
  {
   "cell_type": "code",
   "execution_count": null,
   "metadata": {},
   "outputs": [],
   "source": []
  }
 ],
 "metadata": {
  "kernelspec": {
   "display_name": "Python 3",
   "language": "python",
   "name": "python3"
  },
  "language_info": {
   "codemirror_mode": {
    "name": "ipython",
    "version": 3
   },
   "file_extension": ".py",
   "mimetype": "text/x-python",
   "name": "python",
   "nbconvert_exporter": "python",
   "pygments_lexer": "ipython3",
   "version": "3.11.4"
  },
  "orig_nbformat": 4
 },
 "nbformat": 4,
 "nbformat_minor": 2
}
