{
 "cells": [
  {
   "cell_type": "code",
   "execution_count": 5,
   "id": "4de12c08",
   "metadata": {},
   "outputs": [
    {
     "name": "stdout",
     "output_type": "stream",
     "text": [
      "Adjusting noise \n",
      "Recording for 4 seconds\n",
      "Done recording\n",
      "Recognizing the text\n",
      "Decoded Text : date date\n"
     ]
    },
    {
     "name": "stderr",
     "output_type": "stream",
     "text": [
      "date: illegal time format\n",
      "usage: date [-jnRu] [-I[date|hours|minutes|seconds]] [-f input_fmt]\n",
      "            [-r filename|seconds] [-v[+|-]val[y|m|w|d|H|M|S]]\n",
      "            [[[[mm]dd]HH]MM[[cc]yy][.SS] | new_date] [+output_fmt]\n"
     ]
    },
    {
     "data": {
      "text/plain": [
       "['7488473850 do not call Microphone',\n",
       " 'MacBook Air Microphone',\n",
       " 'MacBook Air Speakers']"
      ]
     },
     "execution_count": 5,
     "metadata": {},
     "output_type": "execute_result"
    }
   ],
   "source": [
    "import speech_recognition as sr\n",
    "import os\n",
    "recognizer= sr.Recognizer()\n",
    "\n",
    "with sr.Microphone() as source:\n",
    "    print(\"Adjusting noise \")\n",
    "    recognizer.adjust_for_ambient_noise(source, duration=1)\n",
    "    print(\"Recording for 4 seconds\")\n",
    "    recorded_audio = recognizer.listen(source, timeout=4)\n",
    "    print(\"Done recording\")\n",
    "\n",
    "try:\n",
    "    print(\"Recognizing the text\")\n",
    "    text = recognizer.recognize_google(\n",
    "            recorded_audio, \n",
    "            language=\"en-US\"\n",
    "        )\n",
    "\n",
    "    print(\"Decoded Text : {}\".format(text))\n",
    "    # print(text)\n",
    "    os.system(text)\n",
    "\n",
    "except Exception as ex:\n",
    "\n",
    "    print(ex)\n",
    "\n",
    "\n",
    "sr.Microphone.list_microphone_names()"
   ]
  },
  {
   "cell_type": "code",
   "execution_count": null,
   "id": "fb4ff495",
   "metadata": {},
   "outputs": [],
   "source": []
  }
 ],
 "metadata": {
  "kernelspec": {
   "display_name": "Python 3 (ipykernel)",
   "language": "python",
   "name": "python3"
  },
  "language_info": {
   "codemirror_mode": {
    "name": "ipython",
    "version": 3
   },
   "file_extension": ".py",
   "mimetype": "text/x-python",
   "name": "python",
   "nbconvert_exporter": "python",
   "pygments_lexer": "ipython3",
   "version": "3.11.4"
  }
 },
 "nbformat": 4,
 "nbformat_minor": 5
}
